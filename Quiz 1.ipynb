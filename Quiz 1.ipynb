{
 "cells": [
  {
   "cell_type": "markdown",
   "metadata": {},
   "source": [
    "### Quick Topics Quiz\n",
    "Just a quick review/quiz of some of the simple vanilla NN topics we've gone over the past 2 weeks.\n",
    "\n",
    "![Perceptron](perceptron.png)\n",
    "\n",
    "#### More General Questions:\n",
    "\n",
    "1. Explain the steps of a forward pass (i.e. what does a perceptron do with an input to get to the output).<br /><br /><br />\n",
    "\n",
    "2. Using the image above, assuming we have 3 inputs (not including the bias) with **$x_1 = .5$, $x_2 = .7$, $x_3 = .2$** and weights initialized so that **$w_0 = .3$, $w_1 = .8$, $w_2 = .6$, $w_3 = .2$**. Finally, the expected output is **$.85$**, the **$\\alpha = .1$**, and the sigmoidal function is your activation function. What are each of the weights after executing the backpropagation algorithm and using stochastic gradient descent?<br /><br /><br />\n",
    "\n",
    "3. Explain the difference between batch, mini-batch, and stochastic in terms of how it applies to Neural Networks.<br /><br /><br />\n",
    "\n",
    "4. Name 4 commonly used activation functions. Then, choose 1 and explain a situation it would be beneficial to choose that specific function. Provide a reason why.<br /><br /><br />\n",
    "\n",
    "#### Specific ConvNet Questions:\n",
    "\n",
    "5. What is being optimized/updated in a Convolutional Neural Network?<br /><br /><br />\n",
    "\n",
    "6. Explain how a convolutional layer is formed.<br /><br /><br />\n",
    "\n",
    "7. What is a stride?<br /><br /><br />\n",
    "\n",
    "8. What are the benefits/problems with pooling layers?"
   ]
  },
  {
   "cell_type": "code",
   "execution_count": null,
   "metadata": {},
   "outputs": [],
   "source": []
  }
 ],
 "metadata": {
  "kernelspec": {
   "display_name": "Python 3",
   "language": "python",
   "name": "python3"
  },
  "language_info": {
   "codemirror_mode": {
    "name": "ipython",
    "version": 3
   },
   "file_extension": ".py",
   "mimetype": "text/x-python",
   "name": "python",
   "nbconvert_exporter": "python",
   "pygments_lexer": "ipython3",
   "version": "3.8.5"
  }
 },
 "nbformat": 4,
 "nbformat_minor": 4
}
