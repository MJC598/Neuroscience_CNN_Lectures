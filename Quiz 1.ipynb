{
 "cells": [
  {
   "cell_type": "markdown",
   "metadata": {},
   "source": [
    "### Quick Topics Quiz\n",
    "Just a quick review/quiz of some of the simple vanilla NN topics we've gone over the past 2 weeks.\n",
    "\n",
    "![Perceptron](perceptron.png)\n",
    "\n",
    "#### More General Questions:\n",
    "\n",
    "1. Explain the steps of a forward pass (i.e. what does a perceptron do with an input to get to the output).<br /><br /><br />\n",
    "\n",
    "2. Using the image above, assuming we have 3 inputs (not including the bias) with **$x_1 = .5$, $x_2 = .7$, $x_3 = .2$** and weights initialized so that **$w_0 = .3$, $w_1 = .8$, $w_2 = .6$, $w_3 = .2$**. Finally, the expected output is **$.85$**, the **$\\alpha = .1$**, and the sigmoidal function is your activation function. What are each of the weights after executing the backpropagation algorithm and using stochastic gradient descent?<br /><br /><br />\n",
    "\n",
    "3. Explain the difference between batch, mini-batch, and stochastic in terms of how it applies to Neural Networks.<br /><br /><br />\n",
    "\n",
    "4. Name 4 commonly used activation functions. Then, choose 1 and explain a situation it would be beneficial to choose that specific function. Provide a reason why.<br /><br /><br />\n",
    "\n",
    "#### Specific ConvNet Questions:\n",
    "\n",
    "5. What is being optimized/updated in a Convolutional Neural Network?<br /><br /><br />\n",
    "\n",
    "6. Explain how a convolutional layer is formed.<br /><br /><br />\n",
    "\n",
    "7. What is a stride?<br /><br /><br />\n",
    "\n",
    "8. What are the benefits/problems with pooling layers?"
   ]
  },
  {
   "cell_type": "code",
   "execution_count": 26,
   "metadata": {},
   "outputs": [
    {
     "name": "stdout",
     "output_type": "stream",
     "text": [
      "Epoch 0\n",
      "Output: 0.7613327148429104\n",
      "Output: 0.7236408505426495\n",
      "Epoch 1\n",
      "Output: 0.7618321513982502\n",
      "Output: 0.7241256721989504\n",
      "Epoch 2\n",
      "Output: 0.7623243971861192\n",
      "Output: 0.7246024218581907\n",
      "Epoch 3\n",
      "Output: 0.7628095917751493\n",
      "Output: 0.7250712555538075\n",
      "Epoch 4\n",
      "Output: 0.7632878713038497\n",
      "Output: 0.7255323255197172\n"
     ]
    }
   ],
   "source": [
    "import numpy as np\n",
    "\n",
    "labels = [np.array([.85]), np.array([.72])]\n",
    "learning_rate = .1\n",
    "synaptic_weights = np.array([.3, .8, .6, .2])\n",
    "inputs = [np.array([1., .5, .7, .2]), np.array([1., .3, .4, .9])]\n",
    "for k in range(5):\n",
    "    print(\"Epoch \" + str(k))\n",
    "    for i, inp in enumerate(inputs):\n",
    "        ws = np.dot(synaptic_weights, inp)\n",
    "#         print(ws)\n",
    "        output = 1/(1+np.exp(-ws))\n",
    "        print(\"Output: \" + str(output))\n",
    "\n",
    "        local_grad = (labels[i] - output) * 1/(1+np.exp(-ws)) * (1 - 1/(1+np.exp(-ws)))\n",
    "#         print(\"Local Gradient: \" + str(local_grad))\n",
    "        change_weights = learning_rate * local_grad * inp\n",
    "#         print(\"Change in Weights: \" + str(change_weights))\n",
    "        synaptic_weights = synaptic_weights + change_weights\n",
    "#         print(\"New Weights: \" + str(synaptic_weights))"
   ]
  },
  {
   "cell_type": "code",
   "execution_count": null,
   "metadata": {},
   "outputs": [],
   "source": []
  }
 ],
 "metadata": {
  "kernelspec": {
   "display_name": "Python 3",
   "language": "python",
   "name": "python3"
  },
  "language_info": {
   "codemirror_mode": {
    "name": "ipython",
    "version": 3
   },
   "file_extension": ".py",
   "mimetype": "text/x-python",
   "name": "python",
   "nbconvert_exporter": "python",
   "pygments_lexer": "ipython3",
   "version": "3.8.5"
  }
 },
 "nbformat": 4,
 "nbformat_minor": 4
}
